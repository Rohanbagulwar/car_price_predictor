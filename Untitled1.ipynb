{
 "cells": [
  {
   "cell_type": "code",
   "execution_count": 1,
   "id": "b1bc6d67",
   "metadata": {},
   "outputs": [
    {
     "name": "stdout",
     "output_type": "stream",
     "text": [
      "Requirement already satisfied: numpy in c:\\users\\ideapad gamin\\anaconda3\\lib\\site-packages (1.19.2)\n",
      "Collecting sklearn\n",
      "  Using cached sklearn-0.0.tar.gz (1.1 kB)\n",
      "Requirement already satisfied: scikit-learn in c:\\users\\ideapad gamin\\anaconda3\\lib\\site-packages (from sklearn) (0.23.2)\n",
      "Requirement already satisfied: numpy>=1.13.3 in c:\\users\\ideapad gamin\\anaconda3\\lib\\site-packages (from scikit-learn->sklearn) (1.19.2)\n",
      "Requirement already satisfied: scipy>=0.19.1 in c:\\users\\ideapad gamin\\anaconda3\\lib\\site-packages (from scikit-learn->sklearn) (1.5.2)\n",
      "Requirement already satisfied: joblib>=0.11 in c:\\users\\ideapad gamin\\anaconda3\\lib\\site-packages (from scikit-learn->sklearn) (0.17.0)\n",
      "Requirement already satisfied: threadpoolctl>=2.0.0 in c:\\users\\ideapad gamin\\anaconda3\\lib\\site-packages (from scikit-learn->sklearn) (2.1.0)\n",
      "Building wheels for collected packages: sklearn\n",
      "  Building wheel for sklearn (setup.py): started\n",
      "  Building wheel for sklearn (setup.py): finished with status 'done'\n",
      "  Created wheel for sklearn: filename=sklearn-0.0-py2.py3-none-any.whl size=1321 sha256=df4d9265a1aa399d0c4bd445c2e9be8994c12cd4e563df4bd29b490f54d3225b\n",
      "  Stored in directory: c:\\users\\ideapad gamin\\appdata\\local\\pip\\cache\\wheels\\22\\0b\\40\\fd3f795caaa1fb4c6cb738bc1f56100be1e57da95849bfc897\n",
      "Successfully built sklearn\n",
      "Installing collected packages: sklearn\n",
      "Successfully installed sklearn-0.0\n",
      "Requirement already satisfied: seaborn in c:\\users\\ideapad gamin\\anaconda3\\lib\\site-packages (0.11.0)\n",
      "Requirement already satisfied: pandas>=0.23 in c:\\users\\ideapad gamin\\anaconda3\\lib\\site-packages (from seaborn) (1.1.3)\n",
      "Requirement already satisfied: numpy>=1.15 in c:\\users\\ideapad gamin\\anaconda3\\lib\\site-packages (from seaborn) (1.19.2)\n",
      "Requirement already satisfied: matplotlib>=2.2 in c:\\users\\ideapad gamin\\anaconda3\\lib\\site-packages (from seaborn) (3.3.2)\n",
      "Requirement already satisfied: scipy>=1.0 in c:\\users\\ideapad gamin\\anaconda3\\lib\\site-packages (from seaborn) (1.5.2)\n",
      "Requirement already satisfied: pytz>=2017.2 in c:\\users\\ideapad gamin\\anaconda3\\lib\\site-packages (from pandas>=0.23->seaborn) (2020.1)\n",
      "Requirement already satisfied: python-dateutil>=2.7.3 in c:\\users\\ideapad gamin\\anaconda3\\lib\\site-packages (from pandas>=0.23->seaborn) (2.8.1)\n",
      "Requirement already satisfied: pyparsing!=2.0.4,!=2.1.2,!=2.1.6,>=2.0.3 in c:\\users\\ideapad gamin\\anaconda3\\lib\\site-packages (from matplotlib>=2.2->seaborn) (2.4.7)\n",
      "Requirement already satisfied: pillow>=6.2.0 in c:\\users\\ideapad gamin\\anaconda3\\lib\\site-packages (from matplotlib>=2.2->seaborn) (8.0.1)\n",
      "Requirement already satisfied: cycler>=0.10 in c:\\users\\ideapad gamin\\anaconda3\\lib\\site-packages (from matplotlib>=2.2->seaborn) (0.10.0)\n",
      "Requirement already satisfied: certifi>=2020.06.20 in c:\\users\\ideapad gamin\\anaconda3\\lib\\site-packages (from matplotlib>=2.2->seaborn) (2020.6.20)\n",
      "Requirement already satisfied: kiwisolver>=1.0.1 in c:\\users\\ideapad gamin\\anaconda3\\lib\\site-packages (from matplotlib>=2.2->seaborn) (1.3.0)\n",
      "Requirement already satisfied: six>=1.5 in c:\\users\\ideapad gamin\\anaconda3\\lib\\site-packages (from python-dateutil>=2.7.3->pandas>=0.23->seaborn) (1.15.0)\n",
      "Requirement already satisfied: pandas in c:\\users\\ideapad gamin\\anaconda3\\lib\\site-packages (1.1.3)\n",
      "Requirement already satisfied: pytz>=2017.2 in c:\\users\\ideapad gamin\\anaconda3\\lib\\site-packages (from pandas) (2020.1)\n",
      "Requirement already satisfied: numpy>=1.15.4 in c:\\users\\ideapad gamin\\anaconda3\\lib\\site-packages (from pandas) (1.19.2)\n",
      "Requirement already satisfied: python-dateutil>=2.7.3 in c:\\users\\ideapad gamin\\anaconda3\\lib\\site-packages (from pandas) (2.8.1)\n",
      "Requirement already satisfied: six>=1.5 in c:\\users\\ideapad gamin\\anaconda3\\lib\\site-packages (from python-dateutil>=2.7.3->pandas) (1.15.0)\n"
     ]
    },
    {
     "name": "stderr",
     "output_type": "stream",
     "text": [
      "ERROR: Could not find a version that satisfies the requirement pickle (from versions: none)\n",
      "ERROR: No matching distribution found for pickle\n"
     ]
    },
    {
     "name": "stdout",
     "output_type": "stream",
     "text": [
      "Requirement already satisfied: matplotlib in c:\\users\\ideapad gamin\\anaconda3\\lib\\site-packages (3.3.2)\n",
      "Requirement already satisfied: kiwisolver>=1.0.1 in c:\\users\\ideapad gamin\\anaconda3\\lib\\site-packages (from matplotlib) (1.3.0)\n",
      "Requirement already satisfied: python-dateutil>=2.1 in c:\\users\\ideapad gamin\\anaconda3\\lib\\site-packages (from matplotlib) (2.8.1)\n",
      "Requirement already satisfied: pyparsing!=2.0.4,!=2.1.2,!=2.1.6,>=2.0.3 in c:\\users\\ideapad gamin\\anaconda3\\lib\\site-packages (from matplotlib) (2.4.7)\n",
      "Requirement already satisfied: pillow>=6.2.0 in c:\\users\\ideapad gamin\\anaconda3\\lib\\site-packages (from matplotlib) (8.0.1)\n",
      "Requirement already satisfied: numpy>=1.15 in c:\\users\\ideapad gamin\\anaconda3\\lib\\site-packages (from matplotlib) (1.19.2)\n",
      "Requirement already satisfied: certifi>=2020.06.20 in c:\\users\\ideapad gamin\\anaconda3\\lib\\site-packages (from matplotlib) (2020.6.20)\n",
      "Requirement already satisfied: cycler>=0.10 in c:\\users\\ideapad gamin\\anaconda3\\lib\\site-packages (from matplotlib) (0.10.0)\n",
      "Requirement already satisfied: six>=1.5 in c:\\users\\ideapad gamin\\anaconda3\\lib\\site-packages (from python-dateutil>=2.1->matplotlib) (1.15.0)\n"
     ]
    }
   ],
   "source": [
    "!pip install numpy\n",
    "!pip install sklearn\n",
    "!pip install seaborn\n",
    "!pip install pandas\n",
    "!pip install pickle\n",
    "!pip install matplotlib"
   ]
  },
  {
   "cell_type": "code",
   "execution_count": 2,
   "id": "a98869c3",
   "metadata": {},
   "outputs": [],
   "source": [
    "import pandas as pd\n",
    "import numpy as np\n",
    "import seaborn as sns\n",
    "import matplotlib.pyplot as plt"
   ]
  },
  {
   "cell_type": "code",
   "execution_count": 3,
   "id": "22d1f9c8",
   "metadata": {},
   "outputs": [
    {
     "data": {
      "text/plain": [
       "['.ipynb_checkpoints',\n",
       " 'car data.csv',\n",
       " 'CAR DETAILS FROM CAR DEKHO.csv',\n",
       " 'Car details v3.csv',\n",
       " 'Untitled1.ipynb']"
      ]
     },
     "execution_count": 3,
     "metadata": {},
     "output_type": "execute_result"
    }
   ],
   "source": [
    "import os\n",
    "os.listdir()"
   ]
  },
  {
   "cell_type": "code",
   "execution_count": 3,
   "id": "7a96304a",
   "metadata": {},
   "outputs": [],
   "source": [
    "df=pd.read_csv('car data.csv')"
   ]
  },
  {
   "cell_type": "code",
   "execution_count": 4,
   "id": "7d9b4f17",
   "metadata": {},
   "outputs": [
    {
     "data": {
      "text/html": [
       "<div>\n",
       "<style scoped>\n",
       "    .dataframe tbody tr th:only-of-type {\n",
       "        vertical-align: middle;\n",
       "    }\n",
       "\n",
       "    .dataframe tbody tr th {\n",
       "        vertical-align: top;\n",
       "    }\n",
       "\n",
       "    .dataframe thead th {\n",
       "        text-align: right;\n",
       "    }\n",
       "</style>\n",
       "<table border=\"1\" class=\"dataframe\">\n",
       "  <thead>\n",
       "    <tr style=\"text-align: right;\">\n",
       "      <th></th>\n",
       "      <th>Car_Name</th>\n",
       "      <th>Year</th>\n",
       "      <th>Selling_Price</th>\n",
       "      <th>Present_Price</th>\n",
       "      <th>Kms_Driven</th>\n",
       "      <th>Fuel_Type</th>\n",
       "      <th>Seller_Type</th>\n",
       "      <th>Transmission</th>\n",
       "      <th>Owner</th>\n",
       "    </tr>\n",
       "  </thead>\n",
       "  <tbody>\n",
       "    <tr>\n",
       "      <th>0</th>\n",
       "      <td>ritz</td>\n",
       "      <td>2014</td>\n",
       "      <td>3.35</td>\n",
       "      <td>5.59</td>\n",
       "      <td>27000</td>\n",
       "      <td>Petrol</td>\n",
       "      <td>Dealer</td>\n",
       "      <td>Manual</td>\n",
       "      <td>0</td>\n",
       "    </tr>\n",
       "    <tr>\n",
       "      <th>1</th>\n",
       "      <td>sx4</td>\n",
       "      <td>2013</td>\n",
       "      <td>4.75</td>\n",
       "      <td>9.54</td>\n",
       "      <td>43000</td>\n",
       "      <td>Diesel</td>\n",
       "      <td>Dealer</td>\n",
       "      <td>Manual</td>\n",
       "      <td>0</td>\n",
       "    </tr>\n",
       "    <tr>\n",
       "      <th>2</th>\n",
       "      <td>ciaz</td>\n",
       "      <td>2017</td>\n",
       "      <td>7.25</td>\n",
       "      <td>9.85</td>\n",
       "      <td>6900</td>\n",
       "      <td>Petrol</td>\n",
       "      <td>Dealer</td>\n",
       "      <td>Manual</td>\n",
       "      <td>0</td>\n",
       "    </tr>\n",
       "    <tr>\n",
       "      <th>3</th>\n",
       "      <td>wagon r</td>\n",
       "      <td>2011</td>\n",
       "      <td>2.85</td>\n",
       "      <td>4.15</td>\n",
       "      <td>5200</td>\n",
       "      <td>Petrol</td>\n",
       "      <td>Dealer</td>\n",
       "      <td>Manual</td>\n",
       "      <td>0</td>\n",
       "    </tr>\n",
       "    <tr>\n",
       "      <th>4</th>\n",
       "      <td>swift</td>\n",
       "      <td>2014</td>\n",
       "      <td>4.60</td>\n",
       "      <td>6.87</td>\n",
       "      <td>42450</td>\n",
       "      <td>Diesel</td>\n",
       "      <td>Dealer</td>\n",
       "      <td>Manual</td>\n",
       "      <td>0</td>\n",
       "    </tr>\n",
       "  </tbody>\n",
       "</table>\n",
       "</div>"
      ],
      "text/plain": [
       "  Car_Name  Year  Selling_Price  Present_Price  Kms_Driven Fuel_Type  \\\n",
       "0     ritz  2014           3.35           5.59       27000    Petrol   \n",
       "1      sx4  2013           4.75           9.54       43000    Diesel   \n",
       "2     ciaz  2017           7.25           9.85        6900    Petrol   \n",
       "3  wagon r  2011           2.85           4.15        5200    Petrol   \n",
       "4    swift  2014           4.60           6.87       42450    Diesel   \n",
       "\n",
       "  Seller_Type Transmission  Owner  \n",
       "0      Dealer       Manual      0  \n",
       "1      Dealer       Manual      0  \n",
       "2      Dealer       Manual      0  \n",
       "3      Dealer       Manual      0  \n",
       "4      Dealer       Manual      0  "
      ]
     },
     "execution_count": 4,
     "metadata": {},
     "output_type": "execute_result"
    }
   ],
   "source": [
    "df.head(5)"
   ]
  },
  {
   "cell_type": "code",
   "execution_count": 5,
   "id": "374e14d3",
   "metadata": {},
   "outputs": [
    {
     "data": {
      "text/plain": [
       "array(['Petrol', 'Diesel', 'CNG'], dtype=object)"
      ]
     },
     "execution_count": 5,
     "metadata": {},
     "output_type": "execute_result"
    }
   ],
   "source": [
    "df['Fuel_Type'].unique()"
   ]
  },
  {
   "cell_type": "code",
   "execution_count": 6,
   "id": "eaad3da1",
   "metadata": {},
   "outputs": [
    {
     "data": {
      "text/plain": [
       "Car_Name         0\n",
       "Year             0\n",
       "Selling_Price    0\n",
       "Present_Price    0\n",
       "Kms_Driven       0\n",
       "Fuel_Type        0\n",
       "Seller_Type      0\n",
       "Transmission     0\n",
       "Owner            0\n",
       "dtype: int64"
      ]
     },
     "execution_count": 6,
     "metadata": {},
     "output_type": "execute_result"
    }
   ],
   "source": [
    "df.isnull().sum()"
   ]
  },
  {
   "cell_type": "code",
   "execution_count": 7,
   "id": "85b62cd2",
   "metadata": {},
   "outputs": [
    {
     "data": {
      "text/plain": [
       "dtype('O')"
      ]
     },
     "execution_count": 7,
     "metadata": {},
     "output_type": "execute_result"
    }
   ],
   "source": [
    "df['Car_Name'].dtype"
   ]
  },
  {
   "cell_type": "code",
   "execution_count": 8,
   "id": "b5fe1836",
   "metadata": {},
   "outputs": [
    {
     "data": {
      "text/plain": [
       "city                        26\n",
       "corolla altis               16\n",
       "verna                       14\n",
       "fortuner                    11\n",
       "brio                        10\n",
       "                            ..\n",
       "Honda CB Trigger             1\n",
       "Hero Honda CBZ extreme       1\n",
       "KTM RC390                    1\n",
       "Bajaj Avenger 150 street     1\n",
       "alto 800                     1\n",
       "Name: Car_Name, Length: 98, dtype: int64"
      ]
     },
     "execution_count": 8,
     "metadata": {},
     "output_type": "execute_result"
    }
   ],
   "source": [
    "df['Car_Name'].value_counts()"
   ]
  },
  {
   "cell_type": "code",
   "execution_count": 9,
   "id": "83d712fa",
   "metadata": {},
   "outputs": [
    {
     "data": {
      "text/plain": [
       "array([0, 1, 3], dtype=int64)"
      ]
     },
     "execution_count": 9,
     "metadata": {},
     "output_type": "execute_result"
    }
   ],
   "source": [
    "df['Owner'].unique()"
   ]
  },
  {
   "cell_type": "code",
   "execution_count": 10,
   "id": "4c83d049",
   "metadata": {},
   "outputs": [
    {
     "name": "stdout",
     "output_type": "stream",
     "text": [
      "['Manual' 'Automatic']\n",
      "[0 1 3]\n",
      "['Dealer' 'Individual']\n"
     ]
    }
   ],
   "source": [
    "for i in ['Transmission','Owner','Seller_Type']:\n",
    "    print(df[i].unique())"
   ]
  },
  {
   "cell_type": "code",
   "execution_count": 11,
   "id": "61a93b4f",
   "metadata": {},
   "outputs": [],
   "source": [
    "for i in df['Year']:\n",
    "    df['Year_old']=2020-i"
   ]
  },
  {
   "cell_type": "code",
   "execution_count": 12,
   "id": "4f8d74a6",
   "metadata": {},
   "outputs": [],
   "source": [
    "final_dataset=df.copy()"
   ]
  },
  {
   "cell_type": "code",
   "execution_count": 13,
   "id": "8b80e342",
   "metadata": {},
   "outputs": [],
   "source": [
    "final_dataset.drop('Car_Name',axis=1,inplace=True)"
   ]
  },
  {
   "cell_type": "code",
   "execution_count": 14,
   "id": "d1ea226f",
   "metadata": {},
   "outputs": [
    {
     "data": {
      "text/html": [
       "<div>\n",
       "<style scoped>\n",
       "    .dataframe tbody tr th:only-of-type {\n",
       "        vertical-align: middle;\n",
       "    }\n",
       "\n",
       "    .dataframe tbody tr th {\n",
       "        vertical-align: top;\n",
       "    }\n",
       "\n",
       "    .dataframe thead th {\n",
       "        text-align: right;\n",
       "    }\n",
       "</style>\n",
       "<table border=\"1\" class=\"dataframe\">\n",
       "  <thead>\n",
       "    <tr style=\"text-align: right;\">\n",
       "      <th></th>\n",
       "      <th>Year</th>\n",
       "      <th>Selling_Price</th>\n",
       "      <th>Present_Price</th>\n",
       "      <th>Kms_Driven</th>\n",
       "      <th>Fuel_Type</th>\n",
       "      <th>Seller_Type</th>\n",
       "      <th>Transmission</th>\n",
       "      <th>Owner</th>\n",
       "      <th>Year_old</th>\n",
       "    </tr>\n",
       "  </thead>\n",
       "  <tbody>\n",
       "    <tr>\n",
       "      <th>0</th>\n",
       "      <td>2014</td>\n",
       "      <td>3.35</td>\n",
       "      <td>5.59</td>\n",
       "      <td>27000</td>\n",
       "      <td>Petrol</td>\n",
       "      <td>Dealer</td>\n",
       "      <td>Manual</td>\n",
       "      <td>0</td>\n",
       "      <td>4</td>\n",
       "    </tr>\n",
       "    <tr>\n",
       "      <th>1</th>\n",
       "      <td>2013</td>\n",
       "      <td>4.75</td>\n",
       "      <td>9.54</td>\n",
       "      <td>43000</td>\n",
       "      <td>Diesel</td>\n",
       "      <td>Dealer</td>\n",
       "      <td>Manual</td>\n",
       "      <td>0</td>\n",
       "      <td>4</td>\n",
       "    </tr>\n",
       "    <tr>\n",
       "      <th>2</th>\n",
       "      <td>2017</td>\n",
       "      <td>7.25</td>\n",
       "      <td>9.85</td>\n",
       "      <td>6900</td>\n",
       "      <td>Petrol</td>\n",
       "      <td>Dealer</td>\n",
       "      <td>Manual</td>\n",
       "      <td>0</td>\n",
       "      <td>4</td>\n",
       "    </tr>\n",
       "    <tr>\n",
       "      <th>3</th>\n",
       "      <td>2011</td>\n",
       "      <td>2.85</td>\n",
       "      <td>4.15</td>\n",
       "      <td>5200</td>\n",
       "      <td>Petrol</td>\n",
       "      <td>Dealer</td>\n",
       "      <td>Manual</td>\n",
       "      <td>0</td>\n",
       "      <td>4</td>\n",
       "    </tr>\n",
       "    <tr>\n",
       "      <th>4</th>\n",
       "      <td>2014</td>\n",
       "      <td>4.60</td>\n",
       "      <td>6.87</td>\n",
       "      <td>42450</td>\n",
       "      <td>Diesel</td>\n",
       "      <td>Dealer</td>\n",
       "      <td>Manual</td>\n",
       "      <td>0</td>\n",
       "      <td>4</td>\n",
       "    </tr>\n",
       "    <tr>\n",
       "      <th>...</th>\n",
       "      <td>...</td>\n",
       "      <td>...</td>\n",
       "      <td>...</td>\n",
       "      <td>...</td>\n",
       "      <td>...</td>\n",
       "      <td>...</td>\n",
       "      <td>...</td>\n",
       "      <td>...</td>\n",
       "      <td>...</td>\n",
       "    </tr>\n",
       "    <tr>\n",
       "      <th>296</th>\n",
       "      <td>2016</td>\n",
       "      <td>9.50</td>\n",
       "      <td>11.60</td>\n",
       "      <td>33988</td>\n",
       "      <td>Diesel</td>\n",
       "      <td>Dealer</td>\n",
       "      <td>Manual</td>\n",
       "      <td>0</td>\n",
       "      <td>4</td>\n",
       "    </tr>\n",
       "    <tr>\n",
       "      <th>297</th>\n",
       "      <td>2015</td>\n",
       "      <td>4.00</td>\n",
       "      <td>5.90</td>\n",
       "      <td>60000</td>\n",
       "      <td>Petrol</td>\n",
       "      <td>Dealer</td>\n",
       "      <td>Manual</td>\n",
       "      <td>0</td>\n",
       "      <td>4</td>\n",
       "    </tr>\n",
       "    <tr>\n",
       "      <th>298</th>\n",
       "      <td>2009</td>\n",
       "      <td>3.35</td>\n",
       "      <td>11.00</td>\n",
       "      <td>87934</td>\n",
       "      <td>Petrol</td>\n",
       "      <td>Dealer</td>\n",
       "      <td>Manual</td>\n",
       "      <td>0</td>\n",
       "      <td>4</td>\n",
       "    </tr>\n",
       "    <tr>\n",
       "      <th>299</th>\n",
       "      <td>2017</td>\n",
       "      <td>11.50</td>\n",
       "      <td>12.50</td>\n",
       "      <td>9000</td>\n",
       "      <td>Diesel</td>\n",
       "      <td>Dealer</td>\n",
       "      <td>Manual</td>\n",
       "      <td>0</td>\n",
       "      <td>4</td>\n",
       "    </tr>\n",
       "    <tr>\n",
       "      <th>300</th>\n",
       "      <td>2016</td>\n",
       "      <td>5.30</td>\n",
       "      <td>5.90</td>\n",
       "      <td>5464</td>\n",
       "      <td>Petrol</td>\n",
       "      <td>Dealer</td>\n",
       "      <td>Manual</td>\n",
       "      <td>0</td>\n",
       "      <td>4</td>\n",
       "    </tr>\n",
       "  </tbody>\n",
       "</table>\n",
       "<p>301 rows × 9 columns</p>\n",
       "</div>"
      ],
      "text/plain": [
       "     Year  Selling_Price  Present_Price  Kms_Driven Fuel_Type Seller_Type  \\\n",
       "0    2014           3.35           5.59       27000    Petrol      Dealer   \n",
       "1    2013           4.75           9.54       43000    Diesel      Dealer   \n",
       "2    2017           7.25           9.85        6900    Petrol      Dealer   \n",
       "3    2011           2.85           4.15        5200    Petrol      Dealer   \n",
       "4    2014           4.60           6.87       42450    Diesel      Dealer   \n",
       "..    ...            ...            ...         ...       ...         ...   \n",
       "296  2016           9.50          11.60       33988    Diesel      Dealer   \n",
       "297  2015           4.00           5.90       60000    Petrol      Dealer   \n",
       "298  2009           3.35          11.00       87934    Petrol      Dealer   \n",
       "299  2017          11.50          12.50        9000    Diesel      Dealer   \n",
       "300  2016           5.30           5.90        5464    Petrol      Dealer   \n",
       "\n",
       "    Transmission  Owner  Year_old  \n",
       "0         Manual      0         4  \n",
       "1         Manual      0         4  \n",
       "2         Manual      0         4  \n",
       "3         Manual      0         4  \n",
       "4         Manual      0         4  \n",
       "..           ...    ...       ...  \n",
       "296       Manual      0         4  \n",
       "297       Manual      0         4  \n",
       "298       Manual      0         4  \n",
       "299       Manual      0         4  \n",
       "300       Manual      0         4  \n",
       "\n",
       "[301 rows x 9 columns]"
      ]
     },
     "execution_count": 14,
     "metadata": {},
     "output_type": "execute_result"
    }
   ],
   "source": [
    "final_dataset"
   ]
  },
  {
   "cell_type": "code",
   "execution_count": 15,
   "id": "16463b5e",
   "metadata": {},
   "outputs": [],
   "source": [
    "final_dataset.drop(['Year'],axis=1,inplace=True)"
   ]
  },
  {
   "cell_type": "code",
   "execution_count": 16,
   "id": "23a0a294",
   "metadata": {},
   "outputs": [
    {
     "data": {
      "text/html": [
       "<div>\n",
       "<style scoped>\n",
       "    .dataframe tbody tr th:only-of-type {\n",
       "        vertical-align: middle;\n",
       "    }\n",
       "\n",
       "    .dataframe tbody tr th {\n",
       "        vertical-align: top;\n",
       "    }\n",
       "\n",
       "    .dataframe thead th {\n",
       "        text-align: right;\n",
       "    }\n",
       "</style>\n",
       "<table border=\"1\" class=\"dataframe\">\n",
       "  <thead>\n",
       "    <tr style=\"text-align: right;\">\n",
       "      <th></th>\n",
       "      <th>Selling_Price</th>\n",
       "      <th>Present_Price</th>\n",
       "      <th>Kms_Driven</th>\n",
       "      <th>Fuel_Type</th>\n",
       "      <th>Seller_Type</th>\n",
       "      <th>Transmission</th>\n",
       "      <th>Owner</th>\n",
       "      <th>Year_old</th>\n",
       "    </tr>\n",
       "  </thead>\n",
       "  <tbody>\n",
       "    <tr>\n",
       "      <th>0</th>\n",
       "      <td>3.35</td>\n",
       "      <td>5.59</td>\n",
       "      <td>27000</td>\n",
       "      <td>Petrol</td>\n",
       "      <td>Dealer</td>\n",
       "      <td>Manual</td>\n",
       "      <td>0</td>\n",
       "      <td>4</td>\n",
       "    </tr>\n",
       "    <tr>\n",
       "      <th>1</th>\n",
       "      <td>4.75</td>\n",
       "      <td>9.54</td>\n",
       "      <td>43000</td>\n",
       "      <td>Diesel</td>\n",
       "      <td>Dealer</td>\n",
       "      <td>Manual</td>\n",
       "      <td>0</td>\n",
       "      <td>4</td>\n",
       "    </tr>\n",
       "    <tr>\n",
       "      <th>2</th>\n",
       "      <td>7.25</td>\n",
       "      <td>9.85</td>\n",
       "      <td>6900</td>\n",
       "      <td>Petrol</td>\n",
       "      <td>Dealer</td>\n",
       "      <td>Manual</td>\n",
       "      <td>0</td>\n",
       "      <td>4</td>\n",
       "    </tr>\n",
       "    <tr>\n",
       "      <th>3</th>\n",
       "      <td>2.85</td>\n",
       "      <td>4.15</td>\n",
       "      <td>5200</td>\n",
       "      <td>Petrol</td>\n",
       "      <td>Dealer</td>\n",
       "      <td>Manual</td>\n",
       "      <td>0</td>\n",
       "      <td>4</td>\n",
       "    </tr>\n",
       "    <tr>\n",
       "      <th>4</th>\n",
       "      <td>4.60</td>\n",
       "      <td>6.87</td>\n",
       "      <td>42450</td>\n",
       "      <td>Diesel</td>\n",
       "      <td>Dealer</td>\n",
       "      <td>Manual</td>\n",
       "      <td>0</td>\n",
       "      <td>4</td>\n",
       "    </tr>\n",
       "    <tr>\n",
       "      <th>...</th>\n",
       "      <td>...</td>\n",
       "      <td>...</td>\n",
       "      <td>...</td>\n",
       "      <td>...</td>\n",
       "      <td>...</td>\n",
       "      <td>...</td>\n",
       "      <td>...</td>\n",
       "      <td>...</td>\n",
       "    </tr>\n",
       "    <tr>\n",
       "      <th>296</th>\n",
       "      <td>9.50</td>\n",
       "      <td>11.60</td>\n",
       "      <td>33988</td>\n",
       "      <td>Diesel</td>\n",
       "      <td>Dealer</td>\n",
       "      <td>Manual</td>\n",
       "      <td>0</td>\n",
       "      <td>4</td>\n",
       "    </tr>\n",
       "    <tr>\n",
       "      <th>297</th>\n",
       "      <td>4.00</td>\n",
       "      <td>5.90</td>\n",
       "      <td>60000</td>\n",
       "      <td>Petrol</td>\n",
       "      <td>Dealer</td>\n",
       "      <td>Manual</td>\n",
       "      <td>0</td>\n",
       "      <td>4</td>\n",
       "    </tr>\n",
       "    <tr>\n",
       "      <th>298</th>\n",
       "      <td>3.35</td>\n",
       "      <td>11.00</td>\n",
       "      <td>87934</td>\n",
       "      <td>Petrol</td>\n",
       "      <td>Dealer</td>\n",
       "      <td>Manual</td>\n",
       "      <td>0</td>\n",
       "      <td>4</td>\n",
       "    </tr>\n",
       "    <tr>\n",
       "      <th>299</th>\n",
       "      <td>11.50</td>\n",
       "      <td>12.50</td>\n",
       "      <td>9000</td>\n",
       "      <td>Diesel</td>\n",
       "      <td>Dealer</td>\n",
       "      <td>Manual</td>\n",
       "      <td>0</td>\n",
       "      <td>4</td>\n",
       "    </tr>\n",
       "    <tr>\n",
       "      <th>300</th>\n",
       "      <td>5.30</td>\n",
       "      <td>5.90</td>\n",
       "      <td>5464</td>\n",
       "      <td>Petrol</td>\n",
       "      <td>Dealer</td>\n",
       "      <td>Manual</td>\n",
       "      <td>0</td>\n",
       "      <td>4</td>\n",
       "    </tr>\n",
       "  </tbody>\n",
       "</table>\n",
       "<p>301 rows × 8 columns</p>\n",
       "</div>"
      ],
      "text/plain": [
       "     Selling_Price  Present_Price  Kms_Driven Fuel_Type Seller_Type  \\\n",
       "0             3.35           5.59       27000    Petrol      Dealer   \n",
       "1             4.75           9.54       43000    Diesel      Dealer   \n",
       "2             7.25           9.85        6900    Petrol      Dealer   \n",
       "3             2.85           4.15        5200    Petrol      Dealer   \n",
       "4             4.60           6.87       42450    Diesel      Dealer   \n",
       "..             ...            ...         ...       ...         ...   \n",
       "296           9.50          11.60       33988    Diesel      Dealer   \n",
       "297           4.00           5.90       60000    Petrol      Dealer   \n",
       "298           3.35          11.00       87934    Petrol      Dealer   \n",
       "299          11.50          12.50        9000    Diesel      Dealer   \n",
       "300           5.30           5.90        5464    Petrol      Dealer   \n",
       "\n",
       "    Transmission  Owner  Year_old  \n",
       "0         Manual      0         4  \n",
       "1         Manual      0         4  \n",
       "2         Manual      0         4  \n",
       "3         Manual      0         4  \n",
       "4         Manual      0         4  \n",
       "..           ...    ...       ...  \n",
       "296       Manual      0         4  \n",
       "297       Manual      0         4  \n",
       "298       Manual      0         4  \n",
       "299       Manual      0         4  \n",
       "300       Manual      0         4  \n",
       "\n",
       "[301 rows x 8 columns]"
      ]
     },
     "execution_count": 16,
     "metadata": {},
     "output_type": "execute_result"
    }
   ],
   "source": [
    "final_dataset"
   ]
  },
  {
   "cell_type": "code",
   "execution_count": 17,
   "id": "d90e7dff",
   "metadata": {},
   "outputs": [],
   "source": [
    "# for i in \n",
    "final_dataset=pd.get_dummies(final_dataset,drop_first=True)"
   ]
  },
  {
   "cell_type": "code",
   "execution_count": 18,
   "id": "0a9c3635",
   "metadata": {},
   "outputs": [
    {
     "data": {
      "text/html": [
       "<div>\n",
       "<style scoped>\n",
       "    .dataframe tbody tr th:only-of-type {\n",
       "        vertical-align: middle;\n",
       "    }\n",
       "\n",
       "    .dataframe tbody tr th {\n",
       "        vertical-align: top;\n",
       "    }\n",
       "\n",
       "    .dataframe thead th {\n",
       "        text-align: right;\n",
       "    }\n",
       "</style>\n",
       "<table border=\"1\" class=\"dataframe\">\n",
       "  <thead>\n",
       "    <tr style=\"text-align: right;\">\n",
       "      <th></th>\n",
       "      <th>Selling_Price</th>\n",
       "      <th>Present_Price</th>\n",
       "      <th>Kms_Driven</th>\n",
       "      <th>Owner</th>\n",
       "      <th>Year_old</th>\n",
       "      <th>Fuel_Type_Diesel</th>\n",
       "      <th>Fuel_Type_Petrol</th>\n",
       "      <th>Seller_Type_Individual</th>\n",
       "      <th>Transmission_Manual</th>\n",
       "    </tr>\n",
       "  </thead>\n",
       "  <tbody>\n",
       "    <tr>\n",
       "      <th>0</th>\n",
       "      <td>3.35</td>\n",
       "      <td>5.59</td>\n",
       "      <td>27000</td>\n",
       "      <td>0</td>\n",
       "      <td>4</td>\n",
       "      <td>0</td>\n",
       "      <td>1</td>\n",
       "      <td>0</td>\n",
       "      <td>1</td>\n",
       "    </tr>\n",
       "    <tr>\n",
       "      <th>1</th>\n",
       "      <td>4.75</td>\n",
       "      <td>9.54</td>\n",
       "      <td>43000</td>\n",
       "      <td>0</td>\n",
       "      <td>4</td>\n",
       "      <td>1</td>\n",
       "      <td>0</td>\n",
       "      <td>0</td>\n",
       "      <td>1</td>\n",
       "    </tr>\n",
       "    <tr>\n",
       "      <th>2</th>\n",
       "      <td>7.25</td>\n",
       "      <td>9.85</td>\n",
       "      <td>6900</td>\n",
       "      <td>0</td>\n",
       "      <td>4</td>\n",
       "      <td>0</td>\n",
       "      <td>1</td>\n",
       "      <td>0</td>\n",
       "      <td>1</td>\n",
       "    </tr>\n",
       "    <tr>\n",
       "      <th>3</th>\n",
       "      <td>2.85</td>\n",
       "      <td>4.15</td>\n",
       "      <td>5200</td>\n",
       "      <td>0</td>\n",
       "      <td>4</td>\n",
       "      <td>0</td>\n",
       "      <td>1</td>\n",
       "      <td>0</td>\n",
       "      <td>1</td>\n",
       "    </tr>\n",
       "    <tr>\n",
       "      <th>4</th>\n",
       "      <td>4.60</td>\n",
       "      <td>6.87</td>\n",
       "      <td>42450</td>\n",
       "      <td>0</td>\n",
       "      <td>4</td>\n",
       "      <td>1</td>\n",
       "      <td>0</td>\n",
       "      <td>0</td>\n",
       "      <td>1</td>\n",
       "    </tr>\n",
       "    <tr>\n",
       "      <th>...</th>\n",
       "      <td>...</td>\n",
       "      <td>...</td>\n",
       "      <td>...</td>\n",
       "      <td>...</td>\n",
       "      <td>...</td>\n",
       "      <td>...</td>\n",
       "      <td>...</td>\n",
       "      <td>...</td>\n",
       "      <td>...</td>\n",
       "    </tr>\n",
       "    <tr>\n",
       "      <th>296</th>\n",
       "      <td>9.50</td>\n",
       "      <td>11.60</td>\n",
       "      <td>33988</td>\n",
       "      <td>0</td>\n",
       "      <td>4</td>\n",
       "      <td>1</td>\n",
       "      <td>0</td>\n",
       "      <td>0</td>\n",
       "      <td>1</td>\n",
       "    </tr>\n",
       "    <tr>\n",
       "      <th>297</th>\n",
       "      <td>4.00</td>\n",
       "      <td>5.90</td>\n",
       "      <td>60000</td>\n",
       "      <td>0</td>\n",
       "      <td>4</td>\n",
       "      <td>0</td>\n",
       "      <td>1</td>\n",
       "      <td>0</td>\n",
       "      <td>1</td>\n",
       "    </tr>\n",
       "    <tr>\n",
       "      <th>298</th>\n",
       "      <td>3.35</td>\n",
       "      <td>11.00</td>\n",
       "      <td>87934</td>\n",
       "      <td>0</td>\n",
       "      <td>4</td>\n",
       "      <td>0</td>\n",
       "      <td>1</td>\n",
       "      <td>0</td>\n",
       "      <td>1</td>\n",
       "    </tr>\n",
       "    <tr>\n",
       "      <th>299</th>\n",
       "      <td>11.50</td>\n",
       "      <td>12.50</td>\n",
       "      <td>9000</td>\n",
       "      <td>0</td>\n",
       "      <td>4</td>\n",
       "      <td>1</td>\n",
       "      <td>0</td>\n",
       "      <td>0</td>\n",
       "      <td>1</td>\n",
       "    </tr>\n",
       "    <tr>\n",
       "      <th>300</th>\n",
       "      <td>5.30</td>\n",
       "      <td>5.90</td>\n",
       "      <td>5464</td>\n",
       "      <td>0</td>\n",
       "      <td>4</td>\n",
       "      <td>0</td>\n",
       "      <td>1</td>\n",
       "      <td>0</td>\n",
       "      <td>1</td>\n",
       "    </tr>\n",
       "  </tbody>\n",
       "</table>\n",
       "<p>301 rows × 9 columns</p>\n",
       "</div>"
      ],
      "text/plain": [
       "     Selling_Price  Present_Price  Kms_Driven  Owner  Year_old  \\\n",
       "0             3.35           5.59       27000      0         4   \n",
       "1             4.75           9.54       43000      0         4   \n",
       "2             7.25           9.85        6900      0         4   \n",
       "3             2.85           4.15        5200      0         4   \n",
       "4             4.60           6.87       42450      0         4   \n",
       "..             ...            ...         ...    ...       ...   \n",
       "296           9.50          11.60       33988      0         4   \n",
       "297           4.00           5.90       60000      0         4   \n",
       "298           3.35          11.00       87934      0         4   \n",
       "299          11.50          12.50        9000      0         4   \n",
       "300           5.30           5.90        5464      0         4   \n",
       "\n",
       "     Fuel_Type_Diesel  Fuel_Type_Petrol  Seller_Type_Individual  \\\n",
       "0                   0                 1                       0   \n",
       "1                   1                 0                       0   \n",
       "2                   0                 1                       0   \n",
       "3                   0                 1                       0   \n",
       "4                   1                 0                       0   \n",
       "..                ...               ...                     ...   \n",
       "296                 1                 0                       0   \n",
       "297                 0                 1                       0   \n",
       "298                 0                 1                       0   \n",
       "299                 1                 0                       0   \n",
       "300                 0                 1                       0   \n",
       "\n",
       "     Transmission_Manual  \n",
       "0                      1  \n",
       "1                      1  \n",
       "2                      1  \n",
       "3                      1  \n",
       "4                      1  \n",
       "..                   ...  \n",
       "296                    1  \n",
       "297                    1  \n",
       "298                    1  \n",
       "299                    1  \n",
       "300                    1  \n",
       "\n",
       "[301 rows x 9 columns]"
      ]
     },
     "execution_count": 18,
     "metadata": {},
     "output_type": "execute_result"
    }
   ],
   "source": [
    "final_dataset"
   ]
  },
  {
   "cell_type": "code",
   "execution_count": 19,
   "id": "19bd2da7",
   "metadata": {},
   "outputs": [
    {
     "data": {
      "image/png": "[encoded data removed]",
      "text/plain": [
       "<Figure size 720x720 with 2 Axes>"
      ]
     },
     "metadata": {
      "needs_background": "light"
     },
     "output_type": "display_data"
    }
   ],
   "source": [
    "plt.figure(figsize=(10,10))\n",
    "sns.heatmap(final_dataset.corr(),annot=True)\n",
    "plt.show()"
   ]
  },
  {
   "cell_type": "code",
   "execution_count": 20,
   "id": "221b7f4e",
   "metadata": {},
   "outputs": [],
   "source": [
    "x=final_dataset.iloc[:,1:]\n",
    "y=final_dataset.iloc[:,0]"
   ]
  },
  {
   "cell_type": "code",
   "execution_count": 21,
   "id": "64fba35a",
   "metadata": {},
   "outputs": [
    {
     "data": {
      "text/plain": [
       "ExtraTreesRegressor()"
      ]
     },
     "execution_count": 21,
     "metadata": {},
     "output_type": "execute_result"
    }
   ],
   "source": [
    "from sklearn.ensemble import ExtraTreesRegressor\n",
    "model=ExtraTreesRegressor()\n",
    "model.fit(x,y)"
   ]
  },
  {
   "cell_type": "code",
   "execution_count": 22,
   "id": "53edf883",
   "metadata": {},
   "outputs": [
    {
     "data": {
      "text/plain": [
       "<AxesSubplot:>"
      ]
     },
     "execution_count": 22,
     "metadata": {},
     "output_type": "execute_result"
    },
    {
     "data": {
      "image/png": "[encoded data removed]",
      "text/plain": [
       "<Figure size 432x288 with 1 Axes>"
      ]
     },
     "metadata": {
      "needs_background": "light"
     },
     "output_type": "display_data"
    }
   ],
   "source": [
    "pd.Series(model.feature_importances_,index=x.columns).nlargest(5).plot(kind='bar')\n"
   ]
  },
  {
   "cell_type": "code",
   "execution_count": null,
   "id": "9750648a",
   "metadata": {},
   "outputs": [],
   "source": []
  },
  {
   "cell_type": "code",
   "execution_count": null,
   "id": "1fc12d90",
   "metadata": {},
   "outputs": [],
   "source": []
  },
  {
   "cell_type": "code",
   "execution_count": 23,
   "id": "be42427b",
   "metadata": {},
   "outputs": [],
   "source": [
    "from sklearn.model_selection import train_test_split"
   ]
  },
  {
   "cell_type": "code",
   "execution_count": 24,
   "id": "7f5c5e75",
   "metadata": {},
   "outputs": [],
   "source": [
    "x_train,x_test,y_train,y_test=train_test_split(x,y,test_size=0.2)"
   ]
  },
  {
   "cell_type": "code",
   "execution_count": 25,
   "id": "6a0c507c",
   "metadata": {},
   "outputs": [],
   "source": [
    "from sklearn.ensemble import RandomForestRegressor"
   ]
  },
  {
   "cell_type": "code",
   "execution_count": 26,
   "id": "a2c71868",
   "metadata": {},
   "outputs": [],
   "source": [
    "r_reg=RandomForestRegressor()"
   ]
  },
  {
   "cell_type": "code",
   "execution_count": 27,
   "id": "f7d6f74a",
   "metadata": {},
   "outputs": [],
   "source": [
    "n_estimator=[int(x) for x in np.linspace(start=100,stop=1200,num=12)]\n",
    "max_features=['auto','sqrt']\n",
    "min_samples_split=[2,5,10,15,100]\n",
    "max_depth=[int(i) for i in np.linspace(start=30,stop=120,num=10)]\n"
   ]
  },
  {
   "cell_type": "code",
   "execution_count": 28,
   "id": "dfba0c23",
   "metadata": {},
   "outputs": [],
   "source": [
    "from sklearn.model_selection import RandomizedSearchCV"
   ]
  },
  {
   "cell_type": "code",
   "execution_count": 29,
   "id": "9fb87c68",
   "metadata": {},
   "outputs": [],
   "source": [
    "random_grid={\n",
    "    'n_estimators':n_estimator,\n",
    "    'max_features':max_features,\n",
    "    'min_samples_leaf':min_samples_split,\n",
    "    'max_depth':max_depth\n",
    "}"
   ]
  },
  {
   "cell_type": "code",
   "execution_count": 30,
   "id": "372cab98",
   "metadata": {},
   "outputs": [],
   "source": [
    "rf=RandomForestRegressor()"
   ]
  },
  {
   "cell_type": "code",
   "execution_count": 31,
   "id": "2deb8f33",
   "metadata": {},
   "outputs": [],
   "source": [
    "rfa=RandomizedSearchCV(rf,param_distributions=random_grid,scoring='neg_mean_squared_error',n_iter=10,random_state=42,cv=10,verbose=2,n_jobs=1)"
   ]
  },
  {
   "cell_type": "code",
   "execution_count": 32,
   "id": "1cd6a9ff",
   "metadata": {},
   "outputs": [
    {
     "name": "stdout",
     "output_type": "stream",
     "text": [
      "Fitting 10 folds for each of 10 candidates, totalling 100 fits\n",
      "[CV] n_estimators=1100, min_samples_leaf=15, max_features=auto, max_depth=120 \n"
     ]
    },
    {
     "name": "stderr",
     "output_type": "stream",
     "text": [
      "[Parallel(n_jobs=1)]: Using backend SequentialBackend with 1 concurrent workers.\n"
     ]
    },
    {
     "name": "stdout",
     "output_type": "stream",
     "text": [
      "[CV]  n_estimators=1100, min_samples_leaf=15, max_features=auto, max_depth=120, total=   1.9s\n",
      "[CV] n_estimators=1100, min_samples_leaf=15, max_features=auto, max_depth=120 \n"
     ]
    },
    {
     "name": "stderr",
     "output_type": "stream",
     "text": [
      "[Parallel(n_jobs=1)]: Done   1 out of   1 | elapsed:    1.8s remaining:    0.0s\n"
     ]
    },
    {
     "name": "stdout",
     "output_type": "stream",
     "text": [
      "[CV]  n_estimators=1100, min_samples_leaf=15, max_features=auto, max_depth=120, total=   1.9s\n",
      "[CV] n_estimators=1100, min_samples_leaf=15, max_features=auto, max_depth=120 \n",
      "[CV]  n_estimators=1100, min_samples_leaf=15, max_features=auto, max_depth=120, total=   1.7s\n",
      "[CV] n_estimators=1100, min_samples_leaf=15, max_features=auto, max_depth=120 \n",
      "[CV]  n_estimators=1100, min_samples_leaf=15, max_features=auto, max_depth=120, total=   1.7s\n",
      "[CV] n_estimators=1100, min_samples_leaf=15, max_features=auto, max_depth=120 \n",
      "[CV]  n_estimators=1100, min_samples_leaf=15, max_features=auto, max_depth=120, total=   1.8s\n",
      "[CV] n_estimators=1100, min_samples_leaf=15, max_features=auto, max_depth=120 \n",
      "[CV]  n_estimators=1100, min_samples_leaf=15, max_features=auto, max_depth=120, total=   1.3s\n",
      "[CV] n_estimators=1100, min_samples_leaf=15, max_features=auto, max_depth=120 \n",
      "[CV]  n_estimators=1100, min_samples_leaf=15, max_features=auto, max_depth=120, total=   1.0s\n",
      "[CV] n_estimators=1100, min_samples_leaf=15, max_features=auto, max_depth=120 \n",
      "[CV]  n_estimators=1100, min_samples_leaf=15, max_features=auto, max_depth=120, total=   1.1s\n",
      "[CV] n_estimators=1100, min_samples_leaf=15, max_features=auto, max_depth=120 \n",
      "[CV]  n_estimators=1100, min_samples_leaf=15, max_features=auto, max_depth=120, total=   1.1s\n",
      "[CV] n_estimators=1100, min_samples_leaf=15, max_features=auto, max_depth=120 \n",
      "[CV]  n_estimators=1100, min_samples_leaf=15, max_features=auto, max_depth=120, total=   1.0s\n",
      "[CV] n_estimators=900, min_samples_leaf=5, max_features=auto, max_depth=100 \n",
      "[CV]  n_estimators=900, min_samples_leaf=5, max_features=auto, max_depth=100, total=   0.8s\n",
      "[CV] n_estimators=900, min_samples_leaf=5, max_features=auto, max_depth=100 \n",
      "[CV]  n_estimators=900, min_samples_leaf=5, max_features=auto, max_depth=100, total=   0.9s\n",
      "[CV] n_estimators=900, min_samples_leaf=5, max_features=auto, max_depth=100 \n",
      "[CV]  n_estimators=900, min_samples_leaf=5, max_features=auto, max_depth=100, total=   1.0s\n",
      "[CV] n_estimators=900, min_samples_leaf=5, max_features=auto, max_depth=100 \n",
      "[CV]  n_estimators=900, min_samples_leaf=5, max_features=auto, max_depth=100, total=   1.0s\n",
      "[CV] n_estimators=900, min_samples_leaf=5, max_features=auto, max_depth=100 \n",
      "[CV]  n_estimators=900, min_samples_leaf=5, max_features=auto, max_depth=100, total=   0.9s\n",
      "[CV] n_estimators=900, min_samples_leaf=5, max_features=auto, max_depth=100 \n",
      "[CV]  n_estimators=900, min_samples_leaf=5, max_features=auto, max_depth=100, total=   0.9s\n",
      "[CV] n_estimators=900, min_samples_leaf=5, max_features=auto, max_depth=100 \n",
      "[CV]  n_estimators=900, min_samples_leaf=5, max_features=auto, max_depth=100, total=   0.9s\n",
      "[CV] n_estimators=900, min_samples_leaf=5, max_features=auto, max_depth=100 \n",
      "[CV]  n_estimators=900, min_samples_leaf=5, max_features=auto, max_depth=100, total=   0.9s\n",
      "[CV] n_estimators=900, min_samples_leaf=5, max_features=auto, max_depth=100 \n",
      "[CV]  n_estimators=900, min_samples_leaf=5, max_features=auto, max_depth=100, total=   0.8s\n",
      "[CV] n_estimators=900, min_samples_leaf=5, max_features=auto, max_depth=100 \n",
      "[CV]  n_estimators=900, min_samples_leaf=5, max_features=auto, max_depth=100, total=   0.9s\n",
      "[CV] n_estimators=300, min_samples_leaf=100, max_features=auto, max_depth=120 \n",
      "[CV]  n_estimators=300, min_samples_leaf=100, max_features=auto, max_depth=120, total=   0.3s\n",
      "[CV] n_estimators=300, min_samples_leaf=100, max_features=auto, max_depth=120 \n",
      "[CV]  n_estimators=300, min_samples_leaf=100, max_features=auto, max_depth=120, total=   0.3s\n",
      "[CV] n_estimators=300, min_samples_leaf=100, max_features=auto, max_depth=120 \n",
      "[CV]  n_estimators=300, min_samples_leaf=100, max_features=auto, max_depth=120, total=   0.3s\n",
      "[CV] n_estimators=300, min_samples_leaf=100, max_features=auto, max_depth=120 \n",
      "[CV]  n_estimators=300, min_samples_leaf=100, max_features=auto, max_depth=120, total=   0.2s\n",
      "[CV] n_estimators=300, min_samples_leaf=100, max_features=auto, max_depth=120 \n",
      "[CV]  n_estimators=300, min_samples_leaf=100, max_features=auto, max_depth=120, total=   0.3s\n",
      "[CV] n_estimators=300, min_samples_leaf=100, max_features=auto, max_depth=120 \n",
      "[CV]  n_estimators=300, min_samples_leaf=100, max_features=auto, max_depth=120, total=   0.3s\n",
      "[CV] n_estimators=300, min_samples_leaf=100, max_features=auto, max_depth=120 \n",
      "[CV]  n_estimators=300, min_samples_leaf=100, max_features=auto, max_depth=120, total=   0.3s\n",
      "[CV] n_estimators=300, min_samples_leaf=100, max_features=auto, max_depth=120 \n",
      "[CV]  n_estimators=300, min_samples_leaf=100, max_features=auto, max_depth=120, total=   0.3s\n",
      "[CV] n_estimators=300, min_samples_leaf=100, max_features=auto, max_depth=120 \n",
      "[CV]  n_estimators=300, min_samples_leaf=100, max_features=auto, max_depth=120, total=   0.3s\n",
      "[CV] n_estimators=300, min_samples_leaf=100, max_features=auto, max_depth=120 \n",
      "[CV]  n_estimators=300, min_samples_leaf=100, max_features=auto, max_depth=120, total=   0.2s\n",
      "[CV] n_estimators=400, min_samples_leaf=5, max_features=auto, max_depth=120 \n",
      "[CV]  n_estimators=400, min_samples_leaf=5, max_features=auto, max_depth=120, total=   0.4s\n",
      "[CV] n_estimators=400, min_samples_leaf=5, max_features=auto, max_depth=120 \n",
      "[CV]  n_estimators=400, min_samples_leaf=5, max_features=auto, max_depth=120, total=   0.4s\n",
      "[CV] n_estimators=400, min_samples_leaf=5, max_features=auto, max_depth=120 \n",
      "[CV]  n_estimators=400, min_samples_leaf=5, max_features=auto, max_depth=120, total=   0.4s\n",
      "[CV] n_estimators=400, min_samples_leaf=5, max_features=auto, max_depth=120 \n",
      "[CV]  n_estimators=400, min_samples_leaf=5, max_features=auto, max_depth=120, total=   0.4s\n",
      "[CV] n_estimators=400, min_samples_leaf=5, max_features=auto, max_depth=120 \n",
      "[CV]  n_estimators=400, min_samples_leaf=5, max_features=auto, max_depth=120, total=   0.4s\n",
      "[CV] n_estimators=400, min_samples_leaf=5, max_features=auto, max_depth=120 \n",
      "[CV]  n_estimators=400, min_samples_leaf=5, max_features=auto, max_depth=120, total=   0.4s\n",
      "[CV] n_estimators=400, min_samples_leaf=5, max_features=auto, max_depth=120 \n",
      "[CV]  n_estimators=400, min_samples_leaf=5, max_features=auto, max_depth=120, total=   0.4s\n",
      "[CV] n_estimators=400, min_samples_leaf=5, max_features=auto, max_depth=120 \n",
      "[CV]  n_estimators=400, min_samples_leaf=5, max_features=auto, max_depth=120, total=   0.4s\n",
      "[CV] n_estimators=400, min_samples_leaf=5, max_features=auto, max_depth=120 \n",
      "[CV]  n_estimators=400, min_samples_leaf=5, max_features=auto, max_depth=120, total=   0.4s\n",
      "[CV] n_estimators=400, min_samples_leaf=5, max_features=auto, max_depth=120 \n",
      "[CV]  n_estimators=400, min_samples_leaf=5, max_features=auto, max_depth=120, total=   0.4s\n",
      "[CV] n_estimators=100, min_samples_leaf=10, max_features=sqrt, max_depth=110 \n",
      "[CV]  n_estimators=100, min_samples_leaf=10, max_features=sqrt, max_depth=110, total=   0.1s\n",
      "[CV] n_estimators=100, min_samples_leaf=10, max_features=sqrt, max_depth=110 \n",
      "[CV]  n_estimators=100, min_samples_leaf=10, max_features=sqrt, max_depth=110, total=   0.1s\n",
      "[CV] n_estimators=100, min_samples_leaf=10, max_features=sqrt, max_depth=110 \n",
      "[CV]  n_estimators=100, min_samples_leaf=10, max_features=sqrt, max_depth=110, total=   0.1s\n",
      "[CV] n_estimators=100, min_samples_leaf=10, max_features=sqrt, max_depth=110 \n",
      "[CV]  n_estimators=100, min_samples_leaf=10, max_features=sqrt, max_depth=110, total=   0.1s\n",
      "[CV] n_estimators=100, min_samples_leaf=10, max_features=sqrt, max_depth=110 \n",
      "[CV]  n_estimators=100, min_samples_leaf=10, max_features=sqrt, max_depth=110, total=   0.1s\n",
      "[CV] n_estimators=100, min_samples_leaf=10, max_features=sqrt, max_depth=110 \n",
      "[CV]  n_estimators=100, min_samples_leaf=10, max_features=sqrt, max_depth=110, total=   0.1s\n",
      "[CV] n_estimators=100, min_samples_leaf=10, max_features=sqrt, max_depth=110 \n",
      "[CV]  n_estimators=100, min_samples_leaf=10, max_features=sqrt, max_depth=110, total=   0.1s\n",
      "[CV] n_estimators=100, min_samples_leaf=10, max_features=sqrt, max_depth=110 \n",
      "[CV]  n_estimators=100, min_samples_leaf=10, max_features=sqrt, max_depth=110, total=   0.1s\n",
      "[CV] n_estimators=100, min_samples_leaf=10, max_features=sqrt, max_depth=110 \n",
      "[CV]  n_estimators=100, min_samples_leaf=10, max_features=sqrt, max_depth=110, total=   0.1s\n",
      "[CV] n_estimators=100, min_samples_leaf=10, max_features=sqrt, max_depth=110 \n",
      "[CV]  n_estimators=100, min_samples_leaf=10, max_features=sqrt, max_depth=110, total=   0.1s\n",
      "[CV] n_estimators=200, min_samples_leaf=2, max_features=auto, max_depth=40 \n"
     ]
    },
    {
     "name": "stdout",
     "output_type": "stream",
     "text": [
      "[CV]  n_estimators=200, min_samples_leaf=2, max_features=auto, max_depth=40, total=   0.2s\n",
      "[CV] n_estimators=200, min_samples_leaf=2, max_features=auto, max_depth=40 \n",
      "[CV]  n_estimators=200, min_samples_leaf=2, max_features=auto, max_depth=40, total=   0.2s\n",
      "[CV] n_estimators=200, min_samples_leaf=2, max_features=auto, max_depth=40 \n",
      "[CV]  n_estimators=200, min_samples_leaf=2, max_features=auto, max_depth=40, total=   0.2s\n",
      "[CV] n_estimators=200, min_samples_leaf=2, max_features=auto, max_depth=40 \n",
      "[CV]  n_estimators=200, min_samples_leaf=2, max_features=auto, max_depth=40, total=   0.3s\n",
      "[CV] n_estimators=200, min_samples_leaf=2, max_features=auto, max_depth=40 \n",
      "[CV]  n_estimators=200, min_samples_leaf=2, max_features=auto, max_depth=40, total=   0.2s\n",
      "[CV] n_estimators=200, min_samples_leaf=2, max_features=auto, max_depth=40 \n",
      "[CV]  n_estimators=200, min_samples_leaf=2, max_features=auto, max_depth=40, total=   0.2s\n",
      "[CV] n_estimators=200, min_samples_leaf=2, max_features=auto, max_depth=40 \n",
      "[CV]  n_estimators=200, min_samples_leaf=2, max_features=auto, max_depth=40, total=   0.2s\n",
      "[CV] n_estimators=200, min_samples_leaf=2, max_features=auto, max_depth=40 \n",
      "[CV]  n_estimators=200, min_samples_leaf=2, max_features=auto, max_depth=40, total=   0.2s\n",
      "[CV] n_estimators=200, min_samples_leaf=2, max_features=auto, max_depth=40 \n",
      "[CV]  n_estimators=200, min_samples_leaf=2, max_features=auto, max_depth=40, total=   0.2s\n",
      "[CV] n_estimators=200, min_samples_leaf=2, max_features=auto, max_depth=40 \n",
      "[CV]  n_estimators=200, min_samples_leaf=2, max_features=auto, max_depth=40, total=   0.3s\n",
      "[CV] n_estimators=1100, min_samples_leaf=15, max_features=sqrt, max_depth=60 \n",
      "[CV]  n_estimators=1100, min_samples_leaf=15, max_features=sqrt, max_depth=60, total=   1.0s\n",
      "[CV] n_estimators=1100, min_samples_leaf=15, max_features=sqrt, max_depth=60 \n",
      "[CV]  n_estimators=1100, min_samples_leaf=15, max_features=sqrt, max_depth=60, total=   1.0s\n",
      "[CV] n_estimators=1100, min_samples_leaf=15, max_features=sqrt, max_depth=60 \n",
      "[CV]  n_estimators=1100, min_samples_leaf=15, max_features=sqrt, max_depth=60, total=   1.0s\n",
      "[CV] n_estimators=1100, min_samples_leaf=15, max_features=sqrt, max_depth=60 \n",
      "[CV]  n_estimators=1100, min_samples_leaf=15, max_features=sqrt, max_depth=60, total=   1.0s\n",
      "[CV] n_estimators=1100, min_samples_leaf=15, max_features=sqrt, max_depth=60 \n",
      "[CV]  n_estimators=1100, min_samples_leaf=15, max_features=sqrt, max_depth=60, total=   1.0s\n",
      "[CV] n_estimators=1100, min_samples_leaf=15, max_features=sqrt, max_depth=60 \n",
      "[CV]  n_estimators=1100, min_samples_leaf=15, max_features=sqrt, max_depth=60, total=   1.0s\n",
      "[CV] n_estimators=1100, min_samples_leaf=15, max_features=sqrt, max_depth=60 \n",
      "[CV]  n_estimators=1100, min_samples_leaf=15, max_features=sqrt, max_depth=60, total=   1.0s\n",
      "[CV] n_estimators=1100, min_samples_leaf=15, max_features=sqrt, max_depth=60 \n",
      "[CV]  n_estimators=1100, min_samples_leaf=15, max_features=sqrt, max_depth=60, total=   1.0s\n",
      "[CV] n_estimators=1100, min_samples_leaf=15, max_features=sqrt, max_depth=60 \n",
      "[CV]  n_estimators=1100, min_samples_leaf=15, max_features=sqrt, max_depth=60, total=   1.1s\n",
      "[CV] n_estimators=1100, min_samples_leaf=15, max_features=sqrt, max_depth=60 \n",
      "[CV]  n_estimators=1100, min_samples_leaf=15, max_features=sqrt, max_depth=60, total=   1.0s\n",
      "[CV] n_estimators=700, min_samples_leaf=10, max_features=sqrt, max_depth=50 \n",
      "[CV]  n_estimators=700, min_samples_leaf=10, max_features=sqrt, max_depth=50, total=   0.7s\n",
      "[CV] n_estimators=700, min_samples_leaf=10, max_features=sqrt, max_depth=50 \n",
      "[CV]  n_estimators=700, min_samples_leaf=10, max_features=sqrt, max_depth=50, total=   0.6s\n",
      "[CV] n_estimators=700, min_samples_leaf=10, max_features=sqrt, max_depth=50 \n",
      "[CV]  n_estimators=700, min_samples_leaf=10, max_features=sqrt, max_depth=50, total=   0.7s\n",
      "[CV] n_estimators=700, min_samples_leaf=10, max_features=sqrt, max_depth=50 \n",
      "[CV]  n_estimators=700, min_samples_leaf=10, max_features=sqrt, max_depth=50, total=   0.6s\n",
      "[CV] n_estimators=700, min_samples_leaf=10, max_features=sqrt, max_depth=50 \n",
      "[CV]  n_estimators=700, min_samples_leaf=10, max_features=sqrt, max_depth=50, total=   0.6s\n",
      "[CV] n_estimators=700, min_samples_leaf=10, max_features=sqrt, max_depth=50 \n",
      "[CV]  n_estimators=700, min_samples_leaf=10, max_features=sqrt, max_depth=50, total=   0.6s\n",
      "[CV] n_estimators=700, min_samples_leaf=10, max_features=sqrt, max_depth=50 \n",
      "[CV]  n_estimators=700, min_samples_leaf=10, max_features=sqrt, max_depth=50, total=   0.7s\n",
      "[CV] n_estimators=700, min_samples_leaf=10, max_features=sqrt, max_depth=50 \n",
      "[CV]  n_estimators=700, min_samples_leaf=10, max_features=sqrt, max_depth=50, total=   0.7s\n",
      "[CV] n_estimators=700, min_samples_leaf=10, max_features=sqrt, max_depth=50 \n",
      "[CV]  n_estimators=700, min_samples_leaf=10, max_features=sqrt, max_depth=50, total=   0.7s\n",
      "[CV] n_estimators=700, min_samples_leaf=10, max_features=sqrt, max_depth=50 \n",
      "[CV]  n_estimators=700, min_samples_leaf=10, max_features=sqrt, max_depth=50, total=   0.6s\n",
      "[CV] n_estimators=400, min_samples_leaf=10, max_features=sqrt, max_depth=30 \n",
      "[CV]  n_estimators=400, min_samples_leaf=10, max_features=sqrt, max_depth=30, total=   0.4s\n",
      "[CV] n_estimators=400, min_samples_leaf=10, max_features=sqrt, max_depth=30 \n",
      "[CV]  n_estimators=400, min_samples_leaf=10, max_features=sqrt, max_depth=30, total=   0.3s\n",
      "[CV] n_estimators=400, min_samples_leaf=10, max_features=sqrt, max_depth=30 \n",
      "[CV]  n_estimators=400, min_samples_leaf=10, max_features=sqrt, max_depth=30, total=   0.4s\n",
      "[CV] n_estimators=400, min_samples_leaf=10, max_features=sqrt, max_depth=30 \n",
      "[CV]  n_estimators=400, min_samples_leaf=10, max_features=sqrt, max_depth=30, total=   0.4s\n",
      "[CV] n_estimators=400, min_samples_leaf=10, max_features=sqrt, max_depth=30 \n",
      "[CV]  n_estimators=400, min_samples_leaf=10, max_features=sqrt, max_depth=30, total=   0.4s\n",
      "[CV] n_estimators=400, min_samples_leaf=10, max_features=sqrt, max_depth=30 \n",
      "[CV]  n_estimators=400, min_samples_leaf=10, max_features=sqrt, max_depth=30, total=   0.4s\n",
      "[CV] n_estimators=400, min_samples_leaf=10, max_features=sqrt, max_depth=30 \n",
      "[CV]  n_estimators=400, min_samples_leaf=10, max_features=sqrt, max_depth=30, total=   0.3s\n",
      "[CV] n_estimators=400, min_samples_leaf=10, max_features=sqrt, max_depth=30 \n",
      "[CV]  n_estimators=400, min_samples_leaf=10, max_features=sqrt, max_depth=30, total=   0.4s\n",
      "[CV] n_estimators=400, min_samples_leaf=10, max_features=sqrt, max_depth=30 \n",
      "[CV]  n_estimators=400, min_samples_leaf=10, max_features=sqrt, max_depth=30, total=   0.3s\n",
      "[CV] n_estimators=400, min_samples_leaf=10, max_features=sqrt, max_depth=30 \n",
      "[CV]  n_estimators=400, min_samples_leaf=10, max_features=sqrt, max_depth=30, total=   0.4s\n",
      "[CV] n_estimators=800, min_samples_leaf=15, max_features=auto, max_depth=120 \n",
      "[CV]  n_estimators=800, min_samples_leaf=15, max_features=auto, max_depth=120, total=   0.7s\n",
      "[CV] n_estimators=800, min_samples_leaf=15, max_features=auto, max_depth=120 \n",
      "[CV]  n_estimators=800, min_samples_leaf=15, max_features=auto, max_depth=120, total=   0.7s\n",
      "[CV] n_estimators=800, min_samples_leaf=15, max_features=auto, max_depth=120 \n",
      "[CV]  n_estimators=800, min_samples_leaf=15, max_features=auto, max_depth=120, total=   0.8s\n",
      "[CV] n_estimators=800, min_samples_leaf=15, max_features=auto, max_depth=120 \n",
      "[CV]  n_estimators=800, min_samples_leaf=15, max_features=auto, max_depth=120, total=   0.7s\n",
      "[CV] n_estimators=800, min_samples_leaf=15, max_features=auto, max_depth=120 \n",
      "[CV]  n_estimators=800, min_samples_leaf=15, max_features=auto, max_depth=120, total=   0.8s\n",
      "[CV] n_estimators=800, min_samples_leaf=15, max_features=auto, max_depth=120 \n",
      "[CV]  n_estimators=800, min_samples_leaf=15, max_features=auto, max_depth=120, total=   0.8s\n",
      "[CV] n_estimators=800, min_samples_leaf=15, max_features=auto, max_depth=120 \n",
      "[CV]  n_estimators=800, min_samples_leaf=15, max_features=auto, max_depth=120, total=   0.7s\n",
      "[CV] n_estimators=800, min_samples_leaf=15, max_features=auto, max_depth=120 \n",
      "[CV]  n_estimators=800, min_samples_leaf=15, max_features=auto, max_depth=120, total=   0.7s\n",
      "[CV] n_estimators=800, min_samples_leaf=15, max_features=auto, max_depth=120 \n",
      "[CV]  n_estimators=800, min_samples_leaf=15, max_features=auto, max_depth=120, total=   0.7s\n",
      "[CV] n_estimators=800, min_samples_leaf=15, max_features=auto, max_depth=120 \n"
     ]
    },
    {
     "name": "stdout",
     "output_type": "stream",
     "text": [
      "[CV]  n_estimators=800, min_samples_leaf=15, max_features=auto, max_depth=120, total=   0.7s\n"
     ]
    },
    {
     "name": "stderr",
     "output_type": "stream",
     "text": [
      "[Parallel(n_jobs=1)]: Done 100 out of 100 | elapsed:  1.0min finished\n"
     ]
    },
    {
     "data": {
      "text/plain": [
       "RandomizedSearchCV(cv=10, estimator=RandomForestRegressor(), n_jobs=1,\n",
       "                   param_distributions={'max_depth': [30, 40, 50, 60, 70, 80,\n",
       "                                                      90, 100, 110, 120],\n",
       "                                        'max_features': ['auto', 'sqrt'],\n",
       "                                        'min_samples_leaf': [2, 5, 10, 15, 100],\n",
       "                                        'n_estimators': [100, 200, 300, 400,\n",
       "                                                         500, 600, 700, 800,\n",
       "                                                         900, 1000, 1100,\n",
       "                                                         1200]},\n",
       "                   random_state=42, scoring='neg_mean_squared_error',\n",
       "                   verbose=2)"
      ]
     },
     "execution_count": 32,
     "metadata": {},
     "output_type": "execute_result"
    }
   ],
   "source": [
    "rfa.fit(x_train,y_train)"
   ]
  },
  {
   "cell_type": "code",
   "execution_count": 33,
   "id": "aade02d4",
   "metadata": {},
   "outputs": [
    {
     "data": {
      "text/plain": [
       "{'n_estimators': 200,\n",
       " 'min_samples_leaf': 2,\n",
       " 'max_features': 'auto',\n",
       " 'max_depth': 40}"
      ]
     },
     "execution_count": 33,
     "metadata": {},
     "output_type": "execute_result"
    }
   ],
   "source": [
    "rfa.best_params_"
   ]
  },
  {
   "cell_type": "code",
   "execution_count": 34,
   "id": "e7beda2e",
   "metadata": {},
   "outputs": [
    {
     "data": {
      "text/plain": [
       "-3.2796568543605766"
      ]
     },
     "execution_count": 34,
     "metadata": {},
     "output_type": "execute_result"
    }
   ],
   "source": [
    "rfa.best_score_"
   ]
  },
  {
   "cell_type": "code",
   "execution_count": 35,
   "id": "74258235",
   "metadata": {},
   "outputs": [],
   "source": [
    "prediction=rfa.predict(x_test)"
   ]
  },
  {
   "cell_type": "code",
   "execution_count": 36,
   "id": "7892709f",
   "metadata": {},
   "outputs": [
    {
     "name": "stderr",
     "output_type": "stream",
     "text": [
      "C:\\Users\\ideapad GAMIN\\Anaconda3\\lib\\site-packages\\seaborn\\distributions.py:2551: FutureWarning: `distplot` is a deprecated function and will be removed in a future version. Please adapt your code to use either `displot` (a figure-level function with similar flexibility) or `histplot` (an axes-level function for histograms).\n",
      "  warnings.warn(msg, FutureWarning)\n"
     ]
    },
    {
     "data": {
      "text/plain": [
       "<AxesSubplot:xlabel='Selling_Price', ylabel='Density'>"
      ]
     },
     "execution_count": 36,
     "metadata": {},
     "output_type": "execute_result"
    },
    {
     "data": {
      "image/png": "[encoded data removed]",
      "text/plain": [
       "<Figure size 432x288 with 1 Axes>"
      ]
     },
     "metadata": {
      "needs_background": "light"
     },
     "output_type": "display_data"
    }
   ],
   "source": [
    "sns.distplot(y_test-prediction)"
   ]
  },
  {
   "cell_type": "code",
   "execution_count": 37,
   "id": "2d44177c",
   "metadata": {},
   "outputs": [
    {
     "data": {
      "text/plain": [
       "<matplotlib.collections.PathCollection at 0x2764c812850>"
      ]
     },
     "execution_count": 37,
     "metadata": {},
     "output_type": "execute_result"
    },
    {
     "data": {
      "image/png": "[encoded data removed]",
      "text/plain": [
       "<Figure size 432x288 with 1 Axes>"
      ]
     },
     "metadata": {
      "needs_background": "light"
     },
     "output_type": "display_data"
    }
   ],
   "source": [
    "plt.scatter(y_test,prediction)"
   ]
  },
  {
   "cell_type": "code",
   "execution_count": null,
   "id": "3df39918",
   "metadata": {},
   "outputs": [],
   "source": []
  },
  {
   "cell_type": "code",
   "execution_count": 38,
   "id": "20cecb7e",
   "metadata": {},
   "outputs": [],
   "source": [
    "import pickle"
   ]
  },
  {
   "cell_type": "code",
   "execution_count": 40,
   "id": "4630ef43",
   "metadata": {},
   "outputs": [],
   "source": [
    "file=open('random_forest.pkl','wb')\n",
    "pickle.dump(rfa,file)"
   ]
  },
  {
   "cell_type": "code",
   "execution_count": 41,
   "id": "e905cc11",
   "metadata": {},
   "outputs": [],
   "source": [
    "file.close()"
   ]
  },
  {
   "cell_type": "code",
   "execution_count": 109,
   "id": "bb5b1cbb",
   "metadata": {},
   "outputs": [],
   "source": [
    "!pip freeze > requirement.txt"
   ]
  },
  {
   "cell_type": "code",
   "execution_count": 43,
   "id": "37a8f8a2",
   "metadata": {},
   "outputs": [],
   "source": [
    "filename = 'random_forest.pkl'\n",
    "with open(filename, 'rb') as f:\n",
    "    model = pickle.load(f)"
   ]
  },
  {
   "cell_type": "code",
   "execution_count": null,
   "id": "a9bae59f",
   "metadata": {},
   "outputs": [],
   "source": [
    "model.predict([])"
   ]
  },
  {
   "cell_type": "code",
   "execution_count": null,
   "id": "7b0ec49d",
   "metadata": {},
   "outputs": [],
   "source": [
    "certifi==2020.6.20\n",
    "chardet==3.0.4\n",
    "click==7.1.2\n",
    "Flask==1.1.2\n",
    "idna==2.10\n",
    "itsdangerous==1.1.0\n",
    "Jinja2==2.11.2\n",
    "joblib==0.15.1\n",
    "jsonify==0.5\n",
    "MarkupSafe==1.1.1\n",
    "numpy==1.19.0\n",
    "requests==2.24.0\n",
    "scikit-learn==0.23.1\n",
    "scipy==1.5.0\n",
    "sklearn==0.0\n",
    "threadpoolctl==2.1.0\n",
    "urllib3==1.25.9\n",
    "Werkzeug==1.0.1\n",
    "wincertstore==0.2\n",
    "gunicorn\n"
   ]
  },
  {
   "cell_type": "code",
   "execution_count": 2,
   "id": "e8a31a1f",
   "metadata": {},
   "outputs": [
    {
     "name": "stdout",
     "output_type": "stream",
     "text": [
      "Collecting flask\n",
      "  Downloading Flask-2.0.1-py3-none-any.whl (94 kB)\n",
      "Collecting click>=7.1.2\n",
      "  Downloading click-8.0.1-py3-none-any.whl (97 kB)\n",
      "Collecting itsdangerous>=2.0\n",
      "  Downloading itsdangerous-2.0.1-py3-none-any.whl (18 kB)\n",
      "Collecting Werkzeug>=2.0\n",
      "  Using cached Werkzeug-2.0.1-py3-none-any.whl (288 kB)\n",
      "Requirement already satisfied: Jinja2>=3.0 in c:\\users\\ideapad gamin\\anaconda3\\envs\\car_price\\lib\\site-packages (from flask) (3.0.1)\n",
      "Requirement already satisfied: colorama in c:\\users\\ideapad gamin\\anaconda3\\envs\\car_price\\lib\\site-packages (from click>=7.1.2->flask) (0.4.4)\n",
      "Requirement already satisfied: MarkupSafe>=2.0 in c:\\users\\ideapad gamin\\anaconda3\\envs\\car_price\\lib\\site-packages (from Jinja2>=3.0->flask) (2.0.1)\n",
      "Installing collected packages: Werkzeug, itsdangerous, click, flask\n",
      "Successfully installed Werkzeug-2.0.1 click-8.0.1 flask-2.0.1 itsdangerous-2.0.1\n"
     ]
    }
   ],
   "source": [
    "!pip install flask"
   ]
  },
  {
   "cell_type": "code",
   "execution_count": 3,
   "id": "a9caece4",
   "metadata": {},
   "outputs": [
    {
     "name": "stdout",
     "output_type": "stream",
     "text": [
      "Package             Version\n",
      "------------------- -------------------\n",
      "argon2-cffi         20.1.0\n",
      "async-generator     1.10\n",
      "attrs               21.2.0\n",
      "backcall            0.2.0\n",
      "bleach              3.3.0\n",
      "certifi             2021.5.30\n",
      "cffi                1.14.6\n",
      "click               8.0.1\n",
      "colorama            0.4.4\n",
      "decorator           5.0.9\n",
      "defusedxml          0.7.1\n",
      "entrypoints         0.3\n",
      "Flask               2.0.1\n",
      "importlib-metadata  3.10.0\n",
      "ipykernel           5.3.4\n",
      "ipython             7.22.0\n",
      "ipython-genutils    0.2.0\n",
      "itsdangerous        2.0.1\n",
      "jedi                0.17.2\n",
      "Jinja2              3.0.1\n",
      "jsonschema          3.2.0\n",
      "jupyter-client      6.1.12\n",
      "jupyter-core        4.7.1\n",
      "jupyterlab-pygments 0.1.2\n",
      "MarkupSafe          2.0.1\n",
      "mistune             0.8.4\n",
      "nbclient            0.5.3\n",
      "nbconvert           6.1.0\n",
      "nbformat            5.1.3\n",
      "nest-asyncio        1.5.1\n",
      "notebook            6.4.0\n",
      "packaging           21.0\n",
      "pandocfilters       1.4.3\n",
      "parso               0.7.0\n",
      "pickleshare         0.7.5\n",
      "pip                 21.1.3\n",
      "prometheus-client   0.11.0\n",
      "prompt-toolkit      3.0.17\n",
      "pycparser           2.20\n",
      "Pygments            2.9.0\n",
      "pyparsing           2.4.7\n",
      "pyrsistent          0.18.0\n",
      "python-dateutil     2.8.2\n",
      "pywin32             228\n",
      "pywinpty            0.5.7\n",
      "pyzmq               20.0.0\n",
      "Send2Trash          1.5.0\n",
      "setuptools          52.0.0.post20210125\n",
      "six                 1.16.0\n",
      "terminado           0.9.4\n",
      "testpath            0.5.0\n",
      "tornado             6.1\n",
      "traitlets           5.0.5\n",
      "wcwidth             0.2.5\n",
      "webencodings        0.5.1\n",
      "Werkzeug            2.0.1\n",
      "wheel               0.36.2\n",
      "wincertstore        0.2\n",
      "zipp                3.5.0\n"
     ]
    }
   ],
   "source": [
    "!pip list"
   ]
  },
  {
   "cell_type": "code",
   "execution_count": 4,
   "id": "cf0225c6",
   "metadata": {},
   "outputs": [
    {
     "name": "stdout",
     "output_type": "stream",
     "text": [
      "Collecting jsonify\n",
      "  Downloading jsonify-0.5.tar.gz (1.0 kB)\n",
      "Building wheels for collected packages: jsonify\n",
      "  Building wheel for jsonify (setup.py): started\n",
      "  Building wheel for jsonify (setup.py): finished with status 'done'\n",
      "  Created wheel for jsonify: filename=jsonify-0.5-py3-none-any.whl size=1561 sha256=b53043e4e80cdd55838fb00b3dc98682d0a345fe28869e26cd8715452075cc49\n",
      "  Stored in directory: c:\\users\\ideapad gamin\\appdata\\local\\pip\\cache\\wheels\\4b\\3c\\1d\\2237365baac7c6e922b81a3d1775d070c09b48cdc31b1a7c0e\n",
      "Successfully built jsonify\n",
      "Installing collected packages: jsonify\n",
      "Successfully installed jsonify-0.5\n"
     ]
    }
   ],
   "source": [
    "!pip install jsonify"
   ]
  },
  {
   "cell_type": "code",
   "execution_count": 5,
   "id": "cd4677b2",
   "metadata": {},
   "outputs": [
    {
     "name": "stdout",
     "output_type": "stream",
     "text": [
      "Collecting requests\n",
      "  Downloading requests-2.26.0-py2.py3-none-any.whl (62 kB)\n",
      "Collecting urllib3<1.27,>=1.21.1\n",
      "  Downloading urllib3-1.26.6-py2.py3-none-any.whl (138 kB)\n",
      "Collecting idna<4,>=2.5\n",
      "  Downloading idna-3.2-py3-none-any.whl (59 kB)\n",
      "Collecting charset-normalizer~=2.0.0\n",
      "  Downloading charset_normalizer-2.0.2-py3-none-any.whl (35 kB)\n",
      "Requirement already satisfied: certifi>=2017.4.17 in c:\\users\\ideapad gamin\\anaconda3\\envs\\car_price\\lib\\site-packages (from requests) (2021.5.30)\n",
      "Installing collected packages: urllib3, idna, charset-normalizer, requests\n",
      "Successfully installed charset-normalizer-2.0.2 idna-3.2 requests-2.26.0 urllib3-1.26.6\n"
     ]
    }
   ],
   "source": [
    "!pip install requests"
   ]
  },
  {
   "cell_type": "code",
   "execution_count": 6,
   "id": "ff0e52b0",
   "metadata": {},
   "outputs": [],
   "source": [
    "!pip freeze > requirements.txt"
   ]
  },
  {
   "cell_type": "code",
   "execution_count": 15,
   "id": "6517462a",
   "metadata": {},
   "outputs": [
    {
     "name": "stdout",
     "output_type": "stream",
     "text": [
      " * Serving Flask app '__main__' (lazy loading)\n",
      " * Environment: production\n",
      "\u001b[31m   WARNING: This is a development server. Do not use it in a production deployment.\u001b[0m\n",
      "\u001b[2m   Use a production WSGI server instead.\u001b[0m\n",
      " * Debug mode: on\n"
     ]
    },
    {
     "name": "stderr",
     "output_type": "stream",
     "text": [
      " * Restarting with stat\n"
     ]
    },
    {
     "ename": "SystemExit",
     "evalue": "1",
     "output_type": "error",
     "traceback": [
      "An exception has occurred, use %tb to see the full traceback.\n",
      "\u001b[1;31mSystemExit\u001b[0m\u001b[1;31m:\u001b[0m 1\n"
     ]
    }
   ],
   "source": [
    "from flask import Flask, render_template, request\n",
    "import jsonify\n",
    "import requests\n",
    "import pickle\n",
    "import numpy as np\n",
    "import sklearn\n",
    "from sklearn.preprocessing import StandardScaler\n",
    "app = Flask(__name__)\n",
    "model = pickle.load(open('random_forest.pkl', 'rb'))\n",
    "@app.route('/',methods=['GET'])\n",
    "def Home():\n",
    "    return render_template('index.html')\n",
    "\n",
    "\n",
    "standard_to = StandardScaler()\n",
    "@app.route(\"/predict\", methods=['POST'])\n",
    "def predict():\n",
    "    Fuel_Type_Diesel=0\n",
    "    if request.method == 'POST':\n",
    "        Year = int(request.form['Year'])\n",
    "        Present_Price=float(request.form['Present_Price'])\n",
    "        Kms_Driven=int(request.form['Kms_Driven'])\n",
    "        Kms_Driven2=np.log(Kms_Driven)\n",
    "        Owner=int(request.form['Owner'])\n",
    "        Fuel_Type_Petrol=request.form['Fuel_Type_Petrol']\n",
    "        if(Fuel_Type_Petrol=='Petrol'):\n",
    "                Fuel_Type_Petrol=1\n",
    "                Fuel_Type_Diesel=0\n",
    "        else:\n",
    "            Fuel_Type_Petrol=0\n",
    "            Fuel_Type_Diesel=1\n",
    "        Year=2020-Year\n",
    "        Seller_Type_Individual=request.form['Seller_Type_Individual']\n",
    "        if(Seller_Type_Individual=='Individual'):\n",
    "            Seller_Type_Individual=1\n",
    "        else:\n",
    "            Seller_Type_Individual=0\t\n",
    "        Transmission_Mannual=request.form['Transmission_Mannual']\n",
    "        if(Transmission_Mannual=='Mannual'):\n",
    "            Transmission_Mannual=1\n",
    "        else:\n",
    "            Transmission_Mannual=0\n",
    "        prediction=model.predict([[Present_Price,Kms_Driven2,Owner,Year,Fuel_Type_Diesel,Fuel_Type_Petrol,Seller_Type_Individual,Transmission_Mannual]])\n",
    "        output=round(prediction[0],2)\n",
    "        if output<0:\n",
    "            return render_template('index.html',prediction_texts=\"Sorry you cannot sell this car\")\n",
    "        else:\n",
    "            return render_template('index.html',prediction_text=\"You Can Sell The Car at {}\".format(output))\n",
    "    else:\n",
    "        return render_template('index.html')\n",
    "\n",
    "if __name__==\"__main__\":\n",
    "    app.run(debug=True)\n",
    "\n"
   ]
  },
  {
   "cell_type": "code",
   "execution_count": null,
   "id": "4f9c4a81",
   "metadata": {},
   "outputs": [],
   "source": []
  }
 ],
 "metadata": {
  "kernelspec": {
   "display_name": "Python 3",
   "language": "python",
   "name": "python3"
  },
  "language_info": {
   "codemirror_mode": {
    "name": "ipython",
    "version": 3
   },
   "file_extension": ".py",
   "mimetype": "text/x-python",
   "name": "python",
   "nbconvert_exporter": "python",
   "pygments_lexer": "ipython3",
   "version": "3.9.5"
  }
 },
 "nbformat": 4,
 "nbformat_minor": 5
}
